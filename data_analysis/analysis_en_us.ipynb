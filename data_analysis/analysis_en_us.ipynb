{
 "cells": [
  {
   "cell_type": "markdown",
   "metadata": {},
   "source": [
    "### Brazil's Inequalities Analysis\n",
    "\n",
    "##### Is Global Warming experienced in the same way by citizens of a same city?\n",
    "Analysing global warming indicators, such as temperature levels and natural disasters, its mitigators and also evaluating the distribuition among Rio de Janeiro's districts. "
   ]
  },
  {
   "cell_type": "markdown",
   "metadata": {},
   "source": [
    "#### Description"
   ]
  }
 ],
 "metadata": {
  "language_info": {
   "name": "python"
  },
  "orig_nbformat": 4
 },
 "nbformat": 4,
 "nbformat_minor": 2
}
