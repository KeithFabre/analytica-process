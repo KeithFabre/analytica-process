{
 "cells": [
  {
   "cell_type": "markdown",
   "metadata": {},
   "source": [
    "### Desigualdades no Brasil\n",
    "\n",
    "##### O Aquecimento Global é sentido igualmente por habitantes de uma mesma metrópole?\n",
    "Pesquisa inicial buscando observar possíveis diferenças entre os efeitos e causas aquecimento global em diferentes bairros do Rio para avaliar se há desigualdade no fenômeno global do aquecimento global em uma mesma metrópole.  \n"
   ]
  },
  {
   "cell_type": "markdown",
   "metadata": {},
   "source": [
    "#### Descrição"
   ]
  },
  {
   "cell_type": "markdown",
   "metadata": {},
   "source": [
    "##### Foco\n",
    "     - Meio Ambiente\n",
    "\n",
    "##### Hipóteses de Pesquisa\n",
    "- Espera-se encontrar diferenças nos níveis de temperatura em diferentes bairros da cidade\n",
    "- Também se espera encontrar diferentes níveis de umidade, relacionados com a arborização dos bairros. Para bairros com maior arborização se espera maiores níveis de umidade\n",
    "- Ao observar indicadores de qualidade do ar é pressuposto encontrar maior qualidade em bairros com maior arborização e maior IPS\n",
    "- Através destes dados se busca analisar a suspeita de desigualdade na percepção do aquecimento global em diferentes bairros de uma mesma cidade\n",
    "\n",
    "##### Questionamentos a serem respondidos\n",
    "- Pode-se dizer que percepção das pessoas de uma mesma cidade sobre o aquecimento global é a mesma?\n",
    "- O nível de arborização em cada bairro demonstra efeitos nas diferentes características do ambiente?\n",
    "- É possível observar desigualdade na infraestrutura de resfriação (como arborização) em bairros com diferentes níveis de progresso social?\n",
    "     - Isso poderia indicar uma abordagem ambiental desigual relacionada à diferentes bairros?\n",
    "\n",
    "##### Datasets utilizados\n",
    "     https://basedosdados.org/dataset/br-rj-rio-de-janeiro-ipp-ips?bdm_table=dimensoes_componentes\n",
    "     https://www.data.rio/datasets/PCRJ::estações-de-monitoramento-da-qualidade-do-ar-monitorar/explore?location=-22.938143%2C-43.367757%2C11.45"
   ]
  },
  {
   "cell_type": "markdown",
   "metadata": {},
   "source": [
    "#### Contextualização"
   ]
  },
  {
   "cell_type": "markdown",
   "metadata": {},
   "source": [
    "O nível de arborização ...\n"
   ]
  },
  {
   "cell_type": "markdown",
   "metadata": {},
   "source": [
    "#### Análise"
   ]
  },
  {
   "cell_type": "code",
   "execution_count": 48,
   "metadata": {},
   "outputs": [],
   "source": [
    "import pandas                as pd\n",
    "import matplotlib.pyplot     as plt\n",
    "import re"
   ]
  },
  {
   "cell_type": "code",
   "execution_count": 67,
   "metadata": {},
   "outputs": [],
   "source": [
    "# índice de progresso\n",
    "df_ip = pd.read_csv('./data/dimensoes_componentes.csv', index_col = 0).reset_index()\n",
    "# estação metereológica (qualidade do ar)\n",
    "df_q = pd.read_csv('./data/qualidade_do_ar.csv', index_col = 0).reset_index()"
   ]
  },
  {
   "cell_type": "code",
   "execution_count": 68,
   "metadata": {},
   "outputs": [],
   "source": [
    "regions = df_ip['regiao_administrativa'].unique()\n",
    "\n",
    "df_ip = df_ip[df_ip['ano'] == 2020] # get most recent values\n",
    "\n",
    "l_df = df_ip.nlargest(10, ['ips_geral'])['regiao_administrativa'] # df\n",
    "largest = [l_df[key] for key in l_df.keys()] # array with district names\n",
    "\n",
    "s_df = df_ip.nsmallest(10, ['ips_geral'])['regiao_administrativa'] # df\n",
    "smallest = [s_df[key] for key in s_df.keys()] # array with district names\n",
    "\n",
    "# 10 highest and 10 lowest\n",
    "regions20 = largest + smallest \n",
    "\n",
    "regions_of_interest = [\n",
    "    'Bangu', 'São Cristovão', 'Copacabana', 'Iraja',  'Tijuca'\n",
    "    ]\n",
    "\n",
    "df_ip = df_ip[ df_ip['regiao_administrativa'].isin(regions_of_interest) ]\n",
    "df_ip = df_ip[['regiao_administrativa', 'ips_geral']]\n"
   ]
  },
  {
   "cell_type": "code",
   "execution_count": 69,
   "metadata": {},
   "outputs": [
    {
     "data": {
      "image/png": "[encoded data removed]",
      "text/plain": [
       "<Figure size 792x432 with 1 Axes>"
      ]
     },
     "metadata": {
      "needs_background": "light"
     },
     "output_type": "display_data"
    }
   ],
   "source": [
    "df_ip = df_ip.reset_index(drop=True)\n",
    "df_ip = df_ip.set_index('regiao_administrativa')\n",
    "\n",
    "df_ip.plot(kind=\"barh\", title=\"Comparação de Índices IPS\", figsize=(11,6), color=\"orange\")\n",
    "\n",
    "plt.show()\n"
   ]
  },
  {
   "cell_type": "code",
   "execution_count": 5,
   "metadata": {},
   "outputs": [],
   "source": [
    "s_names = [\n",
    "    'Bangu',         'Campo Grande', 'Centro', \n",
    "    'Copacabana',    'Irajá', 'Pedra de Guaratiba', \n",
    "    'São Cristóvão', 'Tijuca'\n",
    "    ]\n",
    "\n",
    "# monitored params from API website description\n",
    "stations = [ \n",
    "    { \"code\": \"CA\",     \"name\": \"Centro\",             \"air_params\": [\"O3\", \"CO\", \"PM10\"] },\n",
    "    { \"code\": \"AV\",     \"name\": \"Copacabana\",         \"air_params\": [\"O3\", \"CO\", \"PM10\", \"SO2\"] },\n",
    "    { \"code\": \"SC\",     \"name\": \"São Cristóvão\",      \"air_params\": [\"O3\", \"CO\", \"PM10\", \"SO2\"] },\n",
    "    { \"code\": \"SP\",     \"name\": \"Tijuca\",             \"air_params\": [\"O3\", \"CO\", \"PM10\", \"SO2\", \"NOx\"] },\n",
    "    { \"code\": \"IR\" ,    \"name\": \"Irajá\",              \"air_params\": [\"O3\", \"CO\", \"PM10\", \"SO2\", \"NOx\", \"HC\", \"PM2.5\"] },\n",
    "    { \"code\": \"BG\" ,    \"name\": \"Bangu\",              \"air_params\": [\"O3\", \"CO\", \"PM10\", \"SO2\", \"NOx\", \"HC\"] },\n",
    "    { \"code\": \"CG\" ,    \"name\": \"Campo Grande\",       \"air_params\": [\"O3\", \"CO\", \"PM10\", \"SO2\", \"NOx\", \"HC\"] },\n",
    "    { \"code\": \"PG\" ,    \"name\": \"Pedra de Guaratiba\", \"air_params\": [\"O3\", \"PM10\"] }\n",
    "]\n",
    "\n",
    "centro       = df_q[df_q['Estação'].str.contains('CA') ]\n",
    "copa         = df_q[df_q['Estação'].str.contains('AV') ] ###\n",
    "sao_crist    = df_q[df_q['Estação'].str.contains('SC') ] ##\n",
    "tijuca       = df_q[df_q['Estação'].str.contains('SP') ] ##\n",
    "iraja        = df_q[df_q['Estação'].str.contains('IR') ] ### \n",
    "bangu        = df_q[df_q['Estação'].str.contains('BG') ] ##\n",
    "campo_grande = df_q[df_q['Estação'].str.contains('CG') ]\n",
    "pedra_guarat = df_q[df_q['Estação'].str.contains('PG') ] "
   ]
  },
  {
   "cell_type": "code",
   "execution_count": 6,
   "metadata": {},
   "outputs": [],
   "source": [
    "def getTime(date_time):\n",
    "    r = '[0-9]{2}:[0-9]{2}'\n",
    "    time = re.search(r, date_time)\n",
    "\n",
    "    return str(time.group(0))\n",
    "    \n",
    "def getDate(date_time):\n",
    "    r = '[0-9]{4}[\\/][0-9]{2}[\\/][0-9]{2}'\n",
    "    date = re.search(r,date_time)\n",
    "\n",
    "    return str(date.group(0))\n",
    "\n",
    "# adjust so they end on the same time\n",
    "def adjustDateTime(df, date_time):\n",
    "    \n",
    "    # beggining index\n",
    "    idx_start = df.index.values[0]\n",
    "    \n",
    "    # last value as default\n",
    "    idx_end = df.index.values[-1]\n",
    "\n",
    "\n",
    "    try: # get index for same data value\n",
    "        idx_end = df['1Data'].where(df['1Data'].values == date_time).dropna().index[0]\n",
    "    except: # exception for tijuca's missing value\n",
    "        idx_end = df['1Data'].where(df['1Data'].values == '2020/10/29 08:30:00+00').dropna().index[0]\n",
    "    \n",
    "    # stop after last date_time \n",
    "    return df.truncate(before=idx_start, after=idx_end)\n",
    "\n",
    "# create columns for date and time\n",
    "def setDateTime(df):\n",
    "    df['time'] = '-'\n",
    "    df['date'] = '-'\n",
    "\n",
    "    for index, row in df.iterrows():\n",
    "        df['time'][index] = getTime(row['1Data'])\n",
    "        df['date'][index] = getDate(row['1Data'])\n",
    "\n",
    "    return df"
   ]
  },
  {
   "cell_type": "code",
   "execution_count": 131,
   "metadata": {},
   "outputs": [
    {
     "name": "stderr",
     "output_type": "stream",
     "text": [
      "C:\\Users\\keith\\AppData\\Local\\Temp/ipykernel_10188/2749256803.py:37: SettingWithCopyWarning: \n",
      "A value is trying to be set on a copy of a slice from a DataFrame\n",
      "\n",
      "See the caveats in the documentation: https://pandas.pydata.org/pandas-docs/stable/user_guide/indexing.html#returning-a-view-versus-a-copy\n",
      "  df['time'][index] = getTime(row['1Data'])\n",
      "C:\\Users\\keith\\AppData\\Local\\Temp/ipykernel_10188/2749256803.py:38: SettingWithCopyWarning: \n",
      "A value is trying to be set on a copy of a slice from a DataFrame\n",
      "\n",
      "See the caveats in the documentation: https://pandas.pydata.org/pandas-docs/stable/user_guide/indexing.html#returning-a-view-versus-a-copy\n",
      "  df['date'][index] = getDate(row['1Data'])\n",
      "C:\\Users\\keith\\AppData\\Local\\Temp/ipykernel_10188/2749256803.py:37: SettingWithCopyWarning: \n",
      "A value is trying to be set on a copy of a slice from a DataFrame\n",
      "\n",
      "See the caveats in the documentation: https://pandas.pydata.org/pandas-docs/stable/user_guide/indexing.html#returning-a-view-versus-a-copy\n",
      "  df['time'][index] = getTime(row['1Data'])\n",
      "C:\\Users\\keith\\AppData\\Local\\Temp/ipykernel_10188/2749256803.py:38: SettingWithCopyWarning: \n",
      "A value is trying to be set on a copy of a slice from a DataFrame\n",
      "\n",
      "See the caveats in the documentation: https://pandas.pydata.org/pandas-docs/stable/user_guide/indexing.html#returning-a-view-versus-a-copy\n",
      "  df['date'][index] = getDate(row['1Data'])\n",
      "C:\\Users\\keith\\AppData\\Local\\Temp/ipykernel_10188/2749256803.py:37: SettingWithCopyWarning: \n",
      "A value is trying to be set on a copy of a slice from a DataFrame\n",
      "\n",
      "See the caveats in the documentation: https://pandas.pydata.org/pandas-docs/stable/user_guide/indexing.html#returning-a-view-versus-a-copy\n",
      "  df['time'][index] = getTime(row['1Data'])\n",
      "C:\\Users\\keith\\AppData\\Local\\Temp/ipykernel_10188/2749256803.py:38: SettingWithCopyWarning: \n",
      "A value is trying to be set on a copy of a slice from a DataFrame\n",
      "\n",
      "See the caveats in the documentation: https://pandas.pydata.org/pandas-docs/stable/user_guide/indexing.html#returning-a-view-versus-a-copy\n",
      "  df['date'][index] = getDate(row['1Data'])\n",
      "C:\\Users\\keith\\AppData\\Local\\Temp/ipykernel_10188/2749256803.py:37: SettingWithCopyWarning: \n",
      "A value is trying to be set on a copy of a slice from a DataFrame\n",
      "\n",
      "See the caveats in the documentation: https://pandas.pydata.org/pandas-docs/stable/user_guide/indexing.html#returning-a-view-versus-a-copy\n",
      "  df['time'][index] = getTime(row['1Data'])\n",
      "C:\\Users\\keith\\AppData\\Local\\Temp/ipykernel_10188/2749256803.py:38: SettingWithCopyWarning: \n",
      "A value is trying to be set on a copy of a slice from a DataFrame\n",
      "\n",
      "See the caveats in the documentation: https://pandas.pydata.org/pandas-docs/stable/user_guide/indexing.html#returning-a-view-versus-a-copy\n",
      "  df['date'][index] = getDate(row['1Data'])\n",
      "C:\\Users\\keith\\AppData\\Local\\Temp/ipykernel_10188/2749256803.py:37: SettingWithCopyWarning: \n",
      "A value is trying to be set on a copy of a slice from a DataFrame\n",
      "\n",
      "See the caveats in the documentation: https://pandas.pydata.org/pandas-docs/stable/user_guide/indexing.html#returning-a-view-versus-a-copy\n",
      "  df['time'][index] = getTime(row['1Data'])\n",
      "C:\\Users\\keith\\AppData\\Local\\Temp/ipykernel_10188/2749256803.py:38: SettingWithCopyWarning: \n",
      "A value is trying to be set on a copy of a slice from a DataFrame\n",
      "\n",
      "See the caveats in the documentation: https://pandas.pydata.org/pandas-docs/stable/user_guide/indexing.html#returning-a-view-versus-a-copy\n",
      "  df['date'][index] = getDate(row['1Data'])\n"
     ]
    },
    {
     "data": {
      "text/html": [
       "<div>\n",
       "<style scoped>\n",
       "    .dataframe tbody tr th:only-of-type {\n",
       "        vertical-align: middle;\n",
       "    }\n",
       "\n",
       "    .dataframe tbody tr th {\n",
       "        vertical-align: top;\n",
       "    }\n",
       "\n",
       "    .dataframe thead th {\n",
       "        text-align: right;\n",
       "    }\n",
       "</style>\n",
       "<table border=\"1\" class=\"dataframe\">\n",
       "  <thead>\n",
       "    <tr style=\"text-align: right;\">\n",
       "      <th></th>\n",
       "      <th>1Data</th>\n",
       "      <th>Temp</th>\n",
       "      <th>O3</th>\n",
       "      <th>PM10</th>\n",
       "      <th>UR</th>\n",
       "      <th>time</th>\n",
       "      <th>date</th>\n",
       "    </tr>\n",
       "  </thead>\n",
       "  <tbody>\n",
       "    <tr>\n",
       "      <th>619009</th>\n",
       "      <td>2020/10/28 10:30:00+00</td>\n",
       "      <td>37.90</td>\n",
       "      <td>116.24</td>\n",
       "      <td>51.0</td>\n",
       "      <td>31.75</td>\n",
       "      <td>10:30</td>\n",
       "      <td>2020/10/28</td>\n",
       "    </tr>\n",
       "    <tr>\n",
       "      <th>619010</th>\n",
       "      <td>2020/10/28 11:30:00+00</td>\n",
       "      <td>38.87</td>\n",
       "      <td>138.46</td>\n",
       "      <td>54.0</td>\n",
       "      <td>27.90</td>\n",
       "      <td>11:30</td>\n",
       "      <td>2020/10/28</td>\n",
       "    </tr>\n",
       "    <tr>\n",
       "      <th>619011</th>\n",
       "      <td>2020/10/28 12:30:00+00</td>\n",
       "      <td>39.92</td>\n",
       "      <td>140.60</td>\n",
       "      <td>30.0</td>\n",
       "      <td>26.38</td>\n",
       "      <td>12:30</td>\n",
       "      <td>2020/10/28</td>\n",
       "    </tr>\n",
       "    <tr>\n",
       "      <th>619012</th>\n",
       "      <td>2020/10/28 13:30:00+00</td>\n",
       "      <td>39.92</td>\n",
       "      <td>137.98</td>\n",
       "      <td>42.0</td>\n",
       "      <td>23.90</td>\n",
       "      <td>13:30</td>\n",
       "      <td>2020/10/28</td>\n",
       "    </tr>\n",
       "    <tr>\n",
       "      <th>619013</th>\n",
       "      <td>2020/10/28 14:30:00+00</td>\n",
       "      <td>39.68</td>\n",
       "      <td>132.82</td>\n",
       "      <td>49.0</td>\n",
       "      <td>20.80</td>\n",
       "      <td>14:30</td>\n",
       "      <td>2020/10/28</td>\n",
       "    </tr>\n",
       "    <tr>\n",
       "      <th>619014</th>\n",
       "      <td>2020/10/28 15:30:00+00</td>\n",
       "      <td>39.05</td>\n",
       "      <td>127.49</td>\n",
       "      <td>27.0</td>\n",
       "      <td>19.25</td>\n",
       "      <td>15:30</td>\n",
       "      <td>2020/10/28</td>\n",
       "    </tr>\n",
       "    <tr>\n",
       "      <th>619015</th>\n",
       "      <td>2020/10/28 16:30:00+00</td>\n",
       "      <td>37.53</td>\n",
       "      <td>127.65</td>\n",
       "      <td>21.0</td>\n",
       "      <td>19.57</td>\n",
       "      <td>16:30</td>\n",
       "      <td>2020/10/28</td>\n",
       "    </tr>\n",
       "    <tr>\n",
       "      <th>619016</th>\n",
       "      <td>2020/10/28 17:30:00+00</td>\n",
       "      <td>35.52</td>\n",
       "      <td>118.37</td>\n",
       "      <td>29.0</td>\n",
       "      <td>21.98</td>\n",
       "      <td>17:30</td>\n",
       "      <td>2020/10/28</td>\n",
       "    </tr>\n",
       "    <tr>\n",
       "      <th>619017</th>\n",
       "      <td>2020/10/28 18:30:00+00</td>\n",
       "      <td>33.10</td>\n",
       "      <td>104.03</td>\n",
       "      <td>45.0</td>\n",
       "      <td>25.60</td>\n",
       "      <td>18:30</td>\n",
       "      <td>2020/10/28</td>\n",
       "    </tr>\n",
       "    <tr>\n",
       "      <th>619018</th>\n",
       "      <td>2020/10/28 19:30:00+00</td>\n",
       "      <td>31.53</td>\n",
       "      <td>79.46</td>\n",
       "      <td>41.0</td>\n",
       "      <td>32.72</td>\n",
       "      <td>19:30</td>\n",
       "      <td>2020/10/28</td>\n",
       "    </tr>\n",
       "    <tr>\n",
       "      <th>619019</th>\n",
       "      <td>2020/10/28 20:30:00+00</td>\n",
       "      <td>30.27</td>\n",
       "      <td>68.66</td>\n",
       "      <td>86.0</td>\n",
       "      <td>40.72</td>\n",
       "      <td>20:30</td>\n",
       "      <td>2020/10/28</td>\n",
       "    </tr>\n",
       "    <tr>\n",
       "      <th>619020</th>\n",
       "      <td>2020/10/28 21:30:00+00</td>\n",
       "      <td>29.27</td>\n",
       "      <td>73.56</td>\n",
       "      <td>94.0</td>\n",
       "      <td>47.43</td>\n",
       "      <td>21:30</td>\n",
       "      <td>2020/10/28</td>\n",
       "    </tr>\n",
       "    <tr>\n",
       "      <th>619021</th>\n",
       "      <td>2020/10/28 22:30:00+00</td>\n",
       "      <td>28.35</td>\n",
       "      <td>74.25</td>\n",
       "      <td>74.0</td>\n",
       "      <td>49.40</td>\n",
       "      <td>22:30</td>\n",
       "      <td>2020/10/28</td>\n",
       "    </tr>\n",
       "    <tr>\n",
       "      <th>619022</th>\n",
       "      <td>2020/10/28 23:30:00+00</td>\n",
       "      <td>27.83</td>\n",
       "      <td>89.82</td>\n",
       "      <td>64.0</td>\n",
       "      <td>50.55</td>\n",
       "      <td>23:30</td>\n",
       "      <td>2020/10/28</td>\n",
       "    </tr>\n",
       "    <tr>\n",
       "      <th>619023</th>\n",
       "      <td>2020/10/29 00:30:00+00</td>\n",
       "      <td>27.35</td>\n",
       "      <td>NaN</td>\n",
       "      <td>48.0</td>\n",
       "      <td>53.50</td>\n",
       "      <td>00:30</td>\n",
       "      <td>2020/10/29</td>\n",
       "    </tr>\n",
       "    <tr>\n",
       "      <th>619024</th>\n",
       "      <td>2020/10/29 01:30:00+00</td>\n",
       "      <td>26.78</td>\n",
       "      <td>79.64</td>\n",
       "      <td>39.0</td>\n",
       "      <td>57.08</td>\n",
       "      <td>01:30</td>\n",
       "      <td>2020/10/29</td>\n",
       "    </tr>\n",
       "    <tr>\n",
       "      <th>619025</th>\n",
       "      <td>2020/10/29 02:30:00+00</td>\n",
       "      <td>26.43</td>\n",
       "      <td>NaN</td>\n",
       "      <td>39.0</td>\n",
       "      <td>59.08</td>\n",
       "      <td>02:30</td>\n",
       "      <td>2020/10/29</td>\n",
       "    </tr>\n",
       "    <tr>\n",
       "      <th>619026</th>\n",
       "      <td>2020/10/29 03:30:00+00</td>\n",
       "      <td>25.98</td>\n",
       "      <td>82.31</td>\n",
       "      <td>33.0</td>\n",
       "      <td>62.53</td>\n",
       "      <td>03:30</td>\n",
       "      <td>2020/10/29</td>\n",
       "    </tr>\n",
       "    <tr>\n",
       "      <th>619027</th>\n",
       "      <td>2020/10/29 04:30:00+00</td>\n",
       "      <td>25.42</td>\n",
       "      <td>62.07</td>\n",
       "      <td>31.0</td>\n",
       "      <td>70.48</td>\n",
       "      <td>04:30</td>\n",
       "      <td>2020/10/29</td>\n",
       "    </tr>\n",
       "    <tr>\n",
       "      <th>619028</th>\n",
       "      <td>2020/10/29 05:30:00+00</td>\n",
       "      <td>25.28</td>\n",
       "      <td>53.66</td>\n",
       "      <td>40.0</td>\n",
       "      <td>71.08</td>\n",
       "      <td>05:30</td>\n",
       "      <td>2020/10/29</td>\n",
       "    </tr>\n",
       "    <tr>\n",
       "      <th>619029</th>\n",
       "      <td>2020/10/29 06:30:00+00</td>\n",
       "      <td>27.55</td>\n",
       "      <td>61.70</td>\n",
       "      <td>37.0</td>\n",
       "      <td>60.25</td>\n",
       "      <td>06:30</td>\n",
       "      <td>2020/10/29</td>\n",
       "    </tr>\n",
       "    <tr>\n",
       "      <th>619030</th>\n",
       "      <td>2020/10/29 07:30:00+00</td>\n",
       "      <td>30.47</td>\n",
       "      <td>76.89</td>\n",
       "      <td>52.0</td>\n",
       "      <td>48.38</td>\n",
       "      <td>07:30</td>\n",
       "      <td>2020/10/29</td>\n",
       "    </tr>\n",
       "    <tr>\n",
       "      <th>619031</th>\n",
       "      <td>2020/10/29 08:30:00+00</td>\n",
       "      <td>32.72</td>\n",
       "      <td>111.95</td>\n",
       "      <td>61.0</td>\n",
       "      <td>35.40</td>\n",
       "      <td>08:30</td>\n",
       "      <td>2020/10/29</td>\n",
       "    </tr>\n",
       "    <tr>\n",
       "      <th>619032</th>\n",
       "      <td>2020/10/29 09:30:00+00</td>\n",
       "      <td>33.95</td>\n",
       "      <td>116.03</td>\n",
       "      <td>46.0</td>\n",
       "      <td>34.22</td>\n",
       "      <td>09:30</td>\n",
       "      <td>2020/10/29</td>\n",
       "    </tr>\n",
       "  </tbody>\n",
       "</table>\n",
       "</div>"
      ],
      "text/plain": [
       "                         1Data   Temp      O3  PM10     UR   time        date\n",
       "619009  2020/10/28 10:30:00+00  37.90  116.24  51.0  31.75  10:30  2020/10/28\n",
       "619010  2020/10/28 11:30:00+00  38.87  138.46  54.0  27.90  11:30  2020/10/28\n",
       "619011  2020/10/28 12:30:00+00  39.92  140.60  30.0  26.38  12:30  2020/10/28\n",
       "619012  2020/10/28 13:30:00+00  39.92  137.98  42.0  23.90  13:30  2020/10/28\n",
       "619013  2020/10/28 14:30:00+00  39.68  132.82  49.0  20.80  14:30  2020/10/28\n",
       "619014  2020/10/28 15:30:00+00  39.05  127.49  27.0  19.25  15:30  2020/10/28\n",
       "619015  2020/10/28 16:30:00+00  37.53  127.65  21.0  19.57  16:30  2020/10/28\n",
       "619016  2020/10/28 17:30:00+00  35.52  118.37  29.0  21.98  17:30  2020/10/28\n",
       "619017  2020/10/28 18:30:00+00  33.10  104.03  45.0  25.60  18:30  2020/10/28\n",
       "619018  2020/10/28 19:30:00+00  31.53   79.46  41.0  32.72  19:30  2020/10/28\n",
       "619019  2020/10/28 20:30:00+00  30.27   68.66  86.0  40.72  20:30  2020/10/28\n",
       "619020  2020/10/28 21:30:00+00  29.27   73.56  94.0  47.43  21:30  2020/10/28\n",
       "619021  2020/10/28 22:30:00+00  28.35   74.25  74.0  49.40  22:30  2020/10/28\n",
       "619022  2020/10/28 23:30:00+00  27.83   89.82  64.0  50.55  23:30  2020/10/28\n",
       "619023  2020/10/29 00:30:00+00  27.35     NaN  48.0  53.50  00:30  2020/10/29\n",
       "619024  2020/10/29 01:30:00+00  26.78   79.64  39.0  57.08  01:30  2020/10/29\n",
       "619025  2020/10/29 02:30:00+00  26.43     NaN  39.0  59.08  02:30  2020/10/29\n",
       "619026  2020/10/29 03:30:00+00  25.98   82.31  33.0  62.53  03:30  2020/10/29\n",
       "619027  2020/10/29 04:30:00+00  25.42   62.07  31.0  70.48  04:30  2020/10/29\n",
       "619028  2020/10/29 05:30:00+00  25.28   53.66  40.0  71.08  05:30  2020/10/29\n",
       "619029  2020/10/29 06:30:00+00  27.55   61.70  37.0  60.25  06:30  2020/10/29\n",
       "619030  2020/10/29 07:30:00+00  30.47   76.89  52.0  48.38  07:30  2020/10/29\n",
       "619031  2020/10/29 08:30:00+00  32.72  111.95  61.0  35.40  08:30  2020/10/29\n",
       "619032  2020/10/29 09:30:00+00  33.95  116.03  46.0  34.22  09:30  2020/10/29"
      ]
     },
     "execution_count": 131,
     "metadata": {},
     "output_type": "execute_result"
    }
   ],
   "source": [
    "# date to adjust the others\n",
    "date_time = copa.tail(1)['1Data'].iloc[0]\n",
    "\n",
    "sc = adjustDateTime(sao_crist, date_time)                         # stoped at 2021/03/31\n",
    "sao_crist_24h = sc[['1Data', 'Temp', 'O3', 'PM10', 'UR']].tail(24)\n",
    "setDateTime(sao_crist_24h)\n",
    "\n",
    "# reference: last measurement\n",
    "copa_24h      = copa[['1Data', 'Temp', 'O3', 'PM10', 'UR']].tail(24)     # stops at 2020/10/29\n",
    "setDateTime(copa_24h)\n",
    "\n",
    "t = adjustDateTime(tijuca, date_time)                             # stoped at 2021/03/31\n",
    "tijuca_24h    = t[['1Data', 'Temp', 'O3', 'PM10', 'UR']].tail(24)    \n",
    "setDateTime(tijuca_24h)\n",
    "\n",
    "i = adjustDateTime(iraja, date_time)                              # stoped at 2021/03/31\n",
    "iraja_24h     = i[['1Data', 'Temp', 'O3', 'PM10', 'UR']].tail(24)     \n",
    "setDateTime(iraja_24h)\n",
    "\n",
    "b = adjustDateTime(bangu, date_time)                           # stoped at 2021/03/01\n",
    "bangu_24h     = b[['1Data', 'Temp', 'O3', 'PM10', 'UR']].tail(24)     # stoped at 2021/03/01\n",
    "setDateTime(bangu_24h)"
   ]
  },
  {
   "cell_type": "code",
   "execution_count": 132,
   "metadata": {},
   "outputs": [],
   "source": [
    "# Plotting only for specific day in the middle of the 24h range to check time changes\n",
    "sao_crist_plot = sao_crist_24h[ sao_crist_24h['date'] == '2020/10/28' ].dropna()\n",
    "copa_plot      = copa_24h[ copa_24h['date'] == '2020/10/28' ].dropna()\n",
    "tijuca_plot    = tijuca_24h[ tijuca_24h['date'] == '2020/10/28' ].dropna()\n",
    "iraja_plot     = iraja_24h[ iraja_24h['date'] == '2020/10/28' ].dropna()\n",
    "bangu_plot     = bangu_24h[ bangu_24h['date'] == '2020/10/28' ].dropna()"
   ]
  },
  {
   "cell_type": "code",
   "execution_count": 133,
   "metadata": {},
   "outputs": [
    {
     "data": {
      "text/plain": [
       "<AxesSubplot:xlabel='time'>"
      ]
     },
     "execution_count": 133,
     "metadata": {},
     "output_type": "execute_result"
    },
    {
     "data": {
      "image/png": "[encoded data removed]",
      "text/plain": [
       "<Figure size 432x288 with 1 Axes>"
      ]
     },
     "metadata": {
      "needs_background": "light"
     },
     "output_type": "display_data"
    }
   ],
   "source": [
    "# Temperatura\n",
    "copa_plot['Temp']      = copa_plot['Temp'].astype(float)\n",
    "tijuca_plot['Temp']    = tijuca_plot['Temp'].astype(float)\n",
    "iraja_plot['Temp']     = iraja_plot['Temp'].astype(float)\n",
    "bangu_plot['Temp']     = bangu_plot['Temp'].astype(float)\n",
    "sao_crist_plot['Temp'] = sao_crist_plot['Temp'].astype(float)\n",
    "\n",
    "ax = copa_plot.plot(x='time', y='Temp', label='Copa', color='Red')\n",
    "tijuca_plot.plot(x='time', y='Temp', label='Tijuca', ax=ax, color='Green')\n",
    "iraja_plot.plot(x='time', y='Temp', label='Irajá', ax=ax, color='Purple')\n",
    "bangu_plot.plot(x='time', y='Temp', label='Bangu', ax=ax, color='Yellow')\n",
    "sao_crist_plot.plot(x='time', y='Temp', label='São Cristóvão', ax=ax)\n"
   ]
  },
  {
   "cell_type": "code",
   "execution_count": 139,
   "metadata": {},
   "outputs": [
    {
     "data": {
      "text/plain": [
       "<AxesSubplot:xlabel='time', ylabel='O3'>"
      ]
     },
     "execution_count": 139,
     "metadata": {},
     "output_type": "execute_result"
    },
    {
     "data": {
      "image/png": "[encoded data removed]",
      "text/plain": [
       "<Figure size 432x288 with 1 Axes>"
      ]
     },
     "metadata": {
      "needs_background": "light"
     },
     "output_type": "display_data"
    }
   ],
   "source": [
    "# O3\n",
    "ax = copa_plot.plot(kind='scatter', y='O3', x='time', label='Copa', color='Red')\n",
    "tijuca_plot.plot(kind='scatter', y='O3', x='time', label='Tijuca', ax=ax, color='Green')\n",
    "iraja_plot.plot(kind='scatter', y='O3', x='time', label='Irajá', ax=ax, color='Purple')\n",
    "bangu_plot.plot(kind='scatter', y='O3', x='time', label='Bangu', ax=ax, color='Yellow')\n",
    "sao_crist_plot.plot(kind='scatter', y='O3', x='time', label='São Cristóvão', ax=ax)\n"
   ]
  },
  {
   "cell_type": "code",
   "execution_count": 135,
   "metadata": {},
   "outputs": [
    {
     "data": {
      "text/plain": [
       "<AxesSubplot:xlabel='time', ylabel='PM10'>"
      ]
     },
     "execution_count": 135,
     "metadata": {},
     "output_type": "execute_result"
    },
    {
     "data": {
      "image/png": "[encoded data removed]",
      "text/plain": [
       "<Figure size 432x288 with 1 Axes>"
      ]
     },
     "metadata": {
      "needs_background": "light"
     },
     "output_type": "display_data"
    }
   ],
   "source": [
    "# PM10\n",
    "ax = copa_plot.plot(kind='scatter', y='PM10', x='time', label='Copa', color='Red')\n",
    "tijuca_plot.plot(kind='scatter', y='PM10', x='time', label='Tijuca', ax=ax, color='Green')\n",
    "iraja_plot.plot(kind='scatter', y='PM10', x='time', label='Irajá', ax=ax, color='Purple')\n",
    "bangu_plot.plot(kind='scatter', y='PM10', x='time', label='Bangu', ax=ax, color='Yellow')\n",
    "sao_crist_plot.plot(kind='scatter', y='PM10', x='time', label='São Cristóvão', ax=ax)"
   ]
  },
  {
   "cell_type": "code",
   "execution_count": 138,
   "metadata": {},
   "outputs": [
    {
     "data": {
      "text/plain": [
       "<AxesSubplot:xlabel='time'>"
      ]
     },
     "execution_count": 138,
     "metadata": {},
     "output_type": "execute_result"
    },
    {
     "data": {
      "image/png": "[encoded data removed]",
      "text/plain": [
       "<Figure size 432x288 with 1 Axes>"
      ]
     },
     "metadata": {
      "needs_background": "light"
     },
     "output_type": "display_data"
    }
   ],
   "source": [
    "# Umidade\n",
    "ax = copa_plot.plot(y='UR', x='time', label='Copa', color='Red')\n",
    "tijuca_plot.plot(y='UR', x='time', label='Tijuca', ax=ax, color='Green')\n",
    "iraja_plot.plot(y='UR', x='time', label='Irajá', ax=ax, color='Purple')\n",
    "bangu_plot.plot(y='UR', x='time', label='Bangu', ax=ax, color='Yellow')\n",
    "sao_crist_plot.plot(y='UR', x='time', label='São Cristóvão', ax=ax)\n"
   ]
  }
 ],
 "metadata": {
  "interpreter": {
   "hash": "2be5faf79681da6f2a61fdfdd5405d65d042280f7fba6178067603e3a2925119"
  },
  "kernelspec": {
   "display_name": "Python 3.10.1 64-bit",
   "language": "python",
   "name": "python3"
  },
  "language_info": {
   "codemirror_mode": {
    "name": "ipython",
    "version": 3
   },
   "file_extension": ".py",
   "mimetype": "text/x-python",
   "name": "python",
   "nbconvert_exporter": "python",
   "pygments_lexer": "ipython3",
   "version": "3.10.1"
  },
  "orig_nbformat": 4
 },
 "nbformat": 4,
 "nbformat_minor": 2
}
